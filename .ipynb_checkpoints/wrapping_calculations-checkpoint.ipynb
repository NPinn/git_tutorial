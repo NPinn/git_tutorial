{
 "cells": [
  {
   "cell_type": "markdown",
   "id": "81e1e97f-168f-4889-86c2-b78711e3cc76",
   "metadata": {},
   "source": [
    "## Import Useful Packages"
   ]
  },
  {
   "cell_type": "code",
   "execution_count": 1,
   "id": "c2e102f5-30f7-488b-9fed-ea7368650550",
   "metadata": {},
   "outputs": [],
   "source": [
    "import pandas as pd\n",
    "import numpy as np\n",
    "import re\n",
    "\n",
    "import random"
   ]
  },
  {
   "cell_type": "markdown",
   "id": "f2e90543-5823-4aeb-80a4-371d3189eef7",
   "metadata": {},
   "source": [
    "## Import Input Data"
   ]
  },
  {
   "cell_type": "code",
   "execution_count": 2,
   "id": "5e493a97-b997-488a-b3ca-a96e1288dc17",
   "metadata": {},
   "outputs": [],
   "source": [
    "list_of_presents_df = pd.read_csv('list_of_presents.csv')"
   ]
  },
  {
   "cell_type": "markdown",
   "id": "1d5a014d-9189-4770-9304-95d57e5f1444",
   "metadata": {},
   "source": [
    "### Convert DataFrame Column to List"
   ]
  },
  {
   "cell_type": "code",
   "execution_count": 3,
   "id": "69319d09-e3b8-48ea-a940-0a87dc4eb8f0",
   "metadata": {},
   "outputs": [],
   "source": [
    "list_of_presenets = list_of_presents_df['Box Dimensions'].to_list()\n",
    "\n",
    "del list_of_presents_df"
   ]
  },
  {
   "cell_type": "markdown",
   "id": "e39a8a86-2fab-4c6a-af28-c5627c62ba18",
   "metadata": {},
   "source": [
    "## Calculate Wrapping Paper & Ribbon Needed for each Box"
   ]
  },
  {
   "cell_type": "markdown",
   "id": "95827c79-c208-4568-aa59-08f21e7fc1c8",
   "metadata": {},
   "source": [
    "### Initialise Data Catch-Alls"
   ]
  },
  {
   "cell_type": "markdown",
   "id": "a83f75ca-30b2-45e6-909b-d353ba119f85",
   "metadata": {},
   "source": [
    "#### Wrapping Paper Catch-Alls"
   ]
  },
  {
   "cell_type": "code",
   "execution_count": 4,
   "id": "4f18f081-249a-494f-8fe6-c832f46af1ff",
   "metadata": {},
   "outputs": [],
   "source": [
    "full_list = []\n",
    "combined_wrapping_paper_total = 0\n",
    "combined_ribbon_total = 0"
   ]
  },
  {
   "cell_type": "markdown",
   "id": "5f58d089-27c6-41cc-b0ad-f54a901f7d2d",
   "metadata": {},
   "source": [
    "### Loop through list of Boxes and Calculate Required Wrapping Paper & Ribbon Required"
   ]
  },
  {
   "cell_type": "code",
   "execution_count": 5,
   "id": "0b4bf1bf-8fa0-4f0c-8cd9-a0b46c547eeb",
   "metadata": {
    "scrolled": true
   },
   "outputs": [],
   "source": [
    "for present in list_of_presenets:\n",
    "    # Split and get Int values for each boxes dimensions\n",
    "    dimensions = list(map(int, present.split('x')))\n",
    "    # Sort Dimensions so that smallest measures are always in positions 0 and 1\n",
    "    dimensions.sort(reverse=False)\n",
    "    # Get all individual dimension calculations\n",
    "    smallest_dimension = dimensions[0]*dimensions[1]\n",
    "    second_dimension = dimensions[0]*dimensions[2]\n",
    "    third_dimension = dimensions[2]*dimensions[1]\n",
    "    # Get Box Volume\n",
    "    box_volume = dimensions[0]*dimensions[1]*dimensions[2]\n",
    "    # Calculate Wrapping Paper Required for Box\n",
    "    wrapping_paper_total = 2*(smallest_dimension+second_dimension+third_dimension)+smallest_dimension\n",
    "    # Add to Wrapping Paper Catch-All Calculation\n",
    "    combined_wrapping_paper_total+= wrapping_paper_total\n",
    "    # Calculate Ribbon Needed for Box\n",
    "    ribbon_total = smallest_dimension+box_volume\n",
    "    # Add to Ribbon Catch-All Calculation\n",
    "    combined_ribbon_total += ribbon_total\n",
    "    #Append all Results to full list\n",
    "    full_list.append([dimensions, wrapping_paper_total, ribbon_total])"
   ]
  },
  {
   "cell_type": "markdown",
   "id": "403501c1-71fd-45a3-8764-034c20560206",
   "metadata": {},
   "source": [
    "## Print Results"
   ]
  },
  {
   "cell_type": "code",
   "execution_count": 6,
   "id": "051da069-5712-46b3-b07d-f41fc9c2c24b",
   "metadata": {},
   "outputs": [
    {
     "name": "stdout",
     "output_type": "stream",
     "text": [
      "Calculated Wrapping Paper Total: 18634\n"
     ]
    }
   ],
   "source": [
    "print(f'Calculated Wrapping Paper Total: {combined_wrapping_paper_total}')"
   ]
  },
  {
   "cell_type": "code",
   "execution_count": 7,
   "id": "f9b72836-6511-48d5-a421-149ea2814469",
   "metadata": {},
   "outputs": [
    {
     "name": "stdout",
     "output_type": "stream",
     "text": [
      "Calculated Ribbon Total: 16709\n"
     ]
    }
   ],
   "source": [
    "print(f'Calculated Ribbon Total: {combined_ribbon_total}')"
   ]
  },
  {
   "cell_type": "code",
   "execution_count": null,
   "id": "9fb582b9-9416-4394-8ad2-afc71db71278",
   "metadata": {},
   "outputs": [],
   "source": []
  }
 ],
 "metadata": {
  "kernelspec": {
   "display_name": "Python 3 (ipykernel)",
   "language": "python",
   "name": "python3"
  },
  "language_info": {
   "codemirror_mode": {
    "name": "ipython",
    "version": 3
   },
   "file_extension": ".py",
   "mimetype": "text/x-python",
   "name": "python",
   "nbconvert_exporter": "python",
   "pygments_lexer": "ipython3",
   "version": "3.11.9"
  }
 },
 "nbformat": 4,
 "nbformat_minor": 5
}
